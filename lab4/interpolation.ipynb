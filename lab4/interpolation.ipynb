{
 "cells": [
  {
   "cell_type": "markdown",
   "id": "522e2934-15d1-4932-86e1-c8f407a75f51",
   "metadata": {},
   "source": [
    "# Лабораторная работа 4\n",
    "\n",
    "## Решение задачи экстраполяции населения страны"
   ]
  },
  {
   "cell_type": "code",
   "execution_count": 1,
   "id": "c56a577c-229e-47bc-8701-277128590844",
   "metadata": {},
   "outputs": [],
   "source": [
    "import numpy as np                # импорт бибилиотеки numpy\n",
    "import matplotlib.pyplot as plt   # импорт модуля matplotlib.pyplot\n",
    "import scipy.integrate as integrate # импорт модуля численного интегрирования\n",
    "import sympy as sym\n",
    "import scipy as sp\n",
    "import pandas as pd\n",
    "import copy\n",
    "\n",
    "import os\n",
    "import sys\n",
    "import git\n",
    "repo = git.Repo('.', search_parent_directories=True)\n",
    "library_dir = repo.working_tree_dir + '/lib'\n",
    "sys.path.insert(0, library_dir)\n",
    "\n",
    "import miptlib as mipt\n",
    "\n",
    "# Create directory for generated .tex and .pdf\n",
    "if not os.path.exists('gen'):\n",
    "    os.mkdir('gen')"
   ]
  },
  {
   "cell_type": "markdown",
   "id": "ee51d9fc-0b0c-4d24-91f9-9c2c42dae844",
   "metadata": {},
   "source": [
    "### Задача:\n",
    "\n",
    "Решить задачу экстраполяции населения страны методами: \n",
    "\n",
    "1. Классическая полиномиальная интерполяция по Ньютону\n",
    "2. Сплайн-интерполяция\n",
    "3. Метод наименьших квадратов\n"
   ]
  },
  {
   "cell_type": "markdown",
   "id": "330344c8-f5ee-40f7-8982-6a0f02b9eb4a",
   "metadata": {},
   "source": [
    "### Исходные данные населения Беларуси:"
   ]
  },
  {
   "cell_type": "code",
   "execution_count": 2,
   "id": "586d5245-3b75-4ca3-9c35-afdc6df0166b",
   "metadata": {},
   "outputs": [
    {
     "data": {
      "text/html": [
       "<div>\n",
       "<style scoped>\n",
       "    .dataframe tbody tr th:only-of-type {\n",
       "        vertical-align: middle;\n",
       "    }\n",
       "\n",
       "    .dataframe tbody tr th {\n",
       "        vertical-align: top;\n",
       "    }\n",
       "\n",
       "    .dataframe thead th {\n",
       "        text-align: right;\n",
       "    }\n",
       "</style>\n",
       "<table border=\"1\" class=\"dataframe\">\n",
       "  <thead>\n",
       "    <tr style=\"text-align: right;\">\n",
       "      <th></th>\n",
       "      <th>Year</th>\n",
       "      <th>Population</th>\n",
       "    </tr>\n",
       "  </thead>\n",
       "  <tbody>\n",
       "    <tr>\n",
       "      <th>0</th>\n",
       "      <td>1950</td>\n",
       "      <td>7745000</td>\n",
       "    </tr>\n",
       "    <tr>\n",
       "      <th>1</th>\n",
       "      <td>1960</td>\n",
       "      <td>8190000</td>\n",
       "    </tr>\n",
       "    <tr>\n",
       "      <th>2</th>\n",
       "      <td>1970</td>\n",
       "      <td>8992190</td>\n",
       "    </tr>\n",
       "    <tr>\n",
       "      <th>3</th>\n",
       "      <td>1980</td>\n",
       "      <td>9658000</td>\n",
       "    </tr>\n",
       "    <tr>\n",
       "      <th>4</th>\n",
       "      <td>1990</td>\n",
       "      <td>10188942</td>\n",
       "    </tr>\n",
       "    <tr>\n",
       "      <th>5</th>\n",
       "      <td>2000</td>\n",
       "      <td>10002535</td>\n",
       "    </tr>\n",
       "    <tr>\n",
       "      <th>6</th>\n",
       "      <td>2010</td>\n",
       "      <td>9499972</td>\n",
       "    </tr>\n",
       "    <tr>\n",
       "      <th>7</th>\n",
       "      <td>2020</td>\n",
       "      <td>9410259</td>\n",
       "    </tr>\n",
       "  </tbody>\n",
       "</table>\n",
       "</div>"
      ],
      "text/plain": [
       "   Year  Population\n",
       "0  1950     7745000\n",
       "1  1960     8190000\n",
       "2  1970     8992190\n",
       "3  1980     9658000\n",
       "4  1990    10188942\n",
       "5  2000    10002535\n",
       "6  2010     9499972\n",
       "7  2020     9410259"
      ]
     },
     "execution_count": 2,
     "metadata": {},
     "output_type": "execute_result"
    }
   ],
   "source": [
    "data = mipt.read_excel('data/data.xlsx', usecols=(0,1), header=(0)).dropna()\n",
    "data"
   ]
  },
  {
   "cell_type": "code",
   "execution_count": null,
   "id": "f8a4f1e6-b0ac-40c4-a86d-b6138f6e1599",
   "metadata": {},
   "outputs": [],
   "source": []
  },
  {
   "cell_type": "code",
   "execution_count": 3,
   "id": "72c3da52-e6ab-4822-b4d3-b0230e012734",
   "metadata": {},
   "outputs": [],
   "source": [
    "def norm_vec(vec):\n",
    "    return np.linalg.norm(vec, ord=np.inf)\n",
    "\n",
    "def mat_norm(matrix):\n",
    "    return np.linalg.norm(matrix, ord=np.inf)\n",
    "\n",
    "threshold = 1e-10\n",
    "\n",
    "def check_res(A, u, f, eps=threshold):\n",
    "    norm = norm_vec(np.matmul(A, u) - f)\n",
    "    return norm, abs(norm) < eps\n"
   ]
  },
  {
   "cell_type": "markdown",
   "id": "f6521296-f24a-42ec-ad66-fa651cf0c0b4",
   "metadata": {},
   "source": [
    "## Полиномиальная интерполяция\n",
    "### Формула Ньютона\n",
    "\n",
    "$N_n(x) = \\sum_{k=0}^{n} b_k \\prod_{j=1}^{i+k-1} (x-x_j)$"
   ]
  },
  {
   "cell_type": "code",
   "execution_count": 4,
   "id": "5576a035-2b23-4af5-ac63-3b6bff33c3ff",
   "metadata": {},
   "outputs": [],
   "source": [
    "def Newton(x_vals, f):\n",
    "    if x_vals is None or f is None:\n",
    "        return lambda x: -1\n",
    "    \n",
    "    degree = len(x_vals)\n",
    "    \n",
    "    b_coeffs = np.zeros((degree, degree))\n",
    "    b_coeffs[0] = f\n",
    "    \n",
    "    for i in range(1, degree):\n",
    "        prev_coeff = b_coeffs[i-1]\n",
    "        b_coeffs[i][0:degree-i] = [(prev_coeff[m+1] - prev_coeff[m])/(x_vals[m+i] - x_vals[m]) for m in range(0, degree - i)]\n",
    "        \n",
    "    def N_deg(x):\n",
    "        bpivot_coeff = b_coeffs.T[0]\n",
    "        val = bpivot_coeff[degree-1]\n",
    "        for m in reversed(range(0, degree-1)):\n",
    "            val = bpivot_coeff[m] + (x - x_vals[m]) * val\n",
    "            \n",
    "        return val\n",
    "\n",
    "    return N_deg"
   ]
  },
  {
   "cell_type": "code",
   "execution_count": 61,
   "id": "4919140a-0cca-40c9-9ac9-d9d471c4780b",
   "metadata": {},
   "outputs": [
    {
     "name": "stdout",
     "output_type": "stream",
     "text": [
      "Dropped dot: 8992190\n",
      "Interpolated dot: 8909676.333333334\n"
     ]
    },
    {
     "data": {
      "image/png": "[encoded data removed]",
      "text/plain": [
       "<Figure size 640x480 with 1 Axes>"
      ]
     },
     "metadata": {},
     "output_type": "display_data"
    }
   ],
   "source": [
    "equ = Newton(np.copy(data['Year'].drop(2)[:4]), np.copy(data['Population'].drop(2)[:4]))\n",
    "n_dots = 30\n",
    "x = np.linspace(data['Year'][0], data['Year'][4], n_dots)\n",
    "y = np.array([equ(x[i]) for i in range(n_dots)])\n",
    "\n",
    "print(\"Dropped dot:\", data['Population'][2])\n",
    "print(\"Interpolated dot:\", equ(data['Year'][2]))\n",
    "\n",
    "plt.scatter(data['Year'][:5], data['Population'][:5])\n",
    "plt.scatter(data['Year'][2], data['Population'][2])\n",
    "plt.plot(x, y)\n",
    "plt.show()\n"
   ]
  },
  {
   "cell_type": "markdown",
   "id": "8d8fee72-bd58-4756-8fe8-d4389c9eed0c",
   "metadata": {},
   "source": [
    "# Сплайн-интерполяция"
   ]
  },
  {
   "cell_type": "code",
   "execution_count": 33,
   "id": "8fe77dc6-01d0-411a-b26f-11489457bd51",
   "metadata": {},
   "outputs": [],
   "source": [
    "def cyclic_thomas(n, f, lower, diag, upper):\n",
    "    cmod = np.zeros(n)\n",
    "    v = np.zeros(n)\n",
    "\n",
    "    # Forward elimination\n",
    "    cmod[1] = upper[1] / diag[1]\n",
    "    v[1] = -lower[1] / diag[1]\n",
    "    f[1] /= diag[1]\n",
    "\n",
    "    for i in range(2, n - 1):\n",
    "        m_factor = 1.0 / (diag[i] - lower[i] * cmod[i - 1])\n",
    "        cmod[i] = upper[i] * m_factor\n",
    "        v[i] = -lower[i] * v[i - 1] * m_factor\n",
    "        f[i] = (f[i] - lower[i] * f[i - 1]) * m_factor\n",
    "\n",
    "    # Handle last row\n",
    "    m_last = 1.0 / (diag[n - 1] - lower[n - 1] * cmod[n - 2])\n",
    "    cmod[n - 1] = upper[n - 1] * m_last\n",
    "    v[n - 1] = (-upper[0] - lower[n - 1] * v[n - 2]) * m_last\n",
    "    f[n - 1] = (f[n - 1] - lower[n - 1] * f[n - 2]) * m_last\n",
    "\n",
    "    # Backward substitution\n",
    "    for i in range(n - 2, 0, -1):\n",
    "        v[i] -= cmod[i] * v[i + 1]\n",
    "        f[i] -= cmod[i] * f[i + 1]\n",
    "\n",
    "    # Solve for m[0]\n",
    "    f[0] = (f[0] - lower[0] * f[n - 1] - upper[0] * f[1]) / (\n",
    "        diag[0] + lower[0] * v[n - 1] + upper[0] * v[1]\n",
    "    )\n",
    "\n",
    "    f[1:] += f[0] * v\n",
    "\n",
    "    return f\n",
    "\n",
    "\n",
    "def cubic_spline_interpolation(h, b):\n",
    "    n = len(h)  # Number of intervals\n",
    "    \n",
    "    # Construct the cyclic tridiagonal system\n",
    "    diag = 2 * (h[:-1] + h[1:])  # Main diagonal\n",
    "    lower = h[1:-1]              # Lower diagonal\n",
    "    upper = h[1:-1]              # Upper diagonal\n",
    "    f = 6 * (b[1:] - b[:-1])   # Right-hand side\n",
    "\n",
    "    diag = np.hstack([1, diag, 1])  # Correct main diagonal size\n",
    "    f = np.hstack([0, f, 0])    # Correct f size\n",
    "    lower = np.hstack([0, h[:-1]])  # Pad lower diagonal\n",
    "    upper = np.hstack([h[:-1], 0])  # Pad upper diagonal\n",
    "\n",
    "    return cyclic_thomas(lower.shape[0], f, lower, diag, upper)\n",
    "    \n",
    "\n",
    "def cubic_polynomial(x, y):\n",
    "\n",
    "    n = len(x) - 1  # Number of intervals\n",
    "    h = np.diff(x)  # Spacing between consecutive x values\n",
    "    b = np.diff(y) / h  # Slope between consecutive points\n",
    "    m = cubic_spline_interpolation(h, b)\n",
    "        \n",
    "    splines = []\n",
    "\n",
    "    def poly(arg):\n",
    "        int_ind = np.searchsorted(x, arg)\n",
    "        int_ind = np.clip(int_ind, 1, n)\n",
    "        \n",
    "        val = m[int_ind-1] * (x[int_ind] - arg)**3 / (6 * h[int_ind-1])                                   \\\n",
    "              + m[int_ind] * (arg - x[int_ind-1])**3 / (6 * h[int_ind-1])                                 \\\n",
    "              + (y[int_ind-1] - m[int_ind-1] * h[int_ind-1]**2 / 6) * (x[int_ind] - arg) / h[int_ind-1]   \\\n",
    "              + (y[int_ind] - m[int_ind] * h[int_ind-1]**2 / 6) * (arg - x[int_ind-1]) / h[int_ind-1]\n",
    "        return val\n",
    "\n",
    "    return lambda arg: poly(arg)\n"
   ]
  },
  {
   "cell_type": "code",
   "execution_count": 59,
   "id": "8378e0ef-9cef-4f9a-b182-6417dd4e4f6d",
   "metadata": {},
   "outputs": [
    {
     "name": "stdout",
     "output_type": "stream",
     "text": [
      "Dropped dot: 8992190\n",
      "Interpolated dot: 9409475.5625\n"
     ]
    },
    {
     "data": {
      "image/png": "[encoded data removed]",
      "text/plain": [
       "<Figure size 640x480 with 1 Axes>"
      ]
     },
     "metadata": {},
     "output_type": "display_data"
    }
   ],
   "source": [
    "equ = cubic_polynomial(np.copy(data['Year'].drop(2)[:4]), np.copy(data['Population'].drop(2)[:4]))\n",
    "x = np.linspace(data['Year'][0], data['Year'][4], n_dots)\n",
    "y = np.array([equ(x[i]) for i in range(n_dots)])\n",
    "\n",
    "\n",
    "print(\"Dropped dot:\", data['Population'][2])\n",
    "print(\"Interpolated dot:\", equ(data['Year'][2]))\n",
    "\n",
    "plt.scatter(data['Year'][:5], data['Population'][:5])\n",
    "plt.scatter(data['Year'][2], data['Population'][2])\n",
    "plt.plot(x, y)\n",
    "plt.show()"
   ]
  },
  {
   "cell_type": "markdown",
   "id": "28c173fe-6eb8-4f97-a4c1-cf2bb5fe6284",
   "metadata": {},
   "source": [
    "## Метод наименьших квадратов"
   ]
  },
  {
   "cell_type": "code",
   "execution_count": 8,
   "id": "7138cb0a-5c11-43d6-9c81-40692b145002",
   "metadata": {},
   "outputs": [],
   "source": [
    "def leastSquares(x, y, phi):\n",
    "    phi_im = np.array([[phi_i(x_m) for x_m in x] for phi_i in phi])\n",
    "\n",
    "    f_i = np.matmul(phi_im, y)\n",
    "    gram_ij = np.matmul(phi_im, phi_im.T)\n",
    "\n",
    "    sols_j = np.linalg.solve(gram_ij, f_i)\n",
    "\n",
    "    return lambda arg: np.array([np.sum([sol_i * phi_i(arg_m) for (sol_i, phi_i) in zip(sols_j, phi)]) for arg_m in np.atleast_1d(arg)])\n"
   ]
  },
  {
   "cell_type": "code",
   "execution_count": 60,
   "id": "329c05ba-2967-4900-8dfe-f548d4b5e444",
   "metadata": {},
   "outputs": [
    {
     "name": "stdout",
     "output_type": "stream",
     "text": [
      "Dropped dot: 8992190\n",
      "Interpolated dot: [8909676.33216763]\n"
     ]
    },
    {
     "data": {
      "image/png": "[encoded data removed]",
      "text/plain": [
       "<Figure size 640x480 with 1 Axes>"
      ]
     },
     "metadata": {},
     "output_type": "display_data"
    }
   ],
   "source": [
    "phi = np.array([\n",
    "    lambda x: 1,\n",
    "    lambda x: x,\n",
    "    lambda x: x**2,\n",
    "    lambda x: x**3\n",
    "])\n",
    "\n",
    "equ = leastSquares(data['Year'].drop(2)[:4], data['Population'].drop(2)[:4], phi)\n",
    "x = np.linspace(data['Year'][0], data['Year'][4], n_dots)\n",
    "y = np.array([equ(x[i]) for i in range(n_dots)])\n",
    "\n",
    "print(\"Dropped dot:\", data['Population'][2])\n",
    "print(\"Interpolated dot:\", equ(data['Year'][2]))\n",
    "\n",
    "plt.scatter(data['Year'][:5], data['Population'][:5])\n",
    "plt.scatter(data['Year'][2], data['Population'][2])\n",
    "plt.plot(x, y)\n",
    "plt.show()"
   ]
  }
 ],
 "metadata": {
  "kernelspec": {
   "display_name": "Python 3 (ipykernel)",
   "language": "python",
   "name": "python3"
  },
  "language_info": {
   "codemirror_mode": {
    "name": "ipython",
    "version": 3
   },
   "file_extension": ".py",
   "mimetype": "text/x-python",
   "name": "python",
   "nbconvert_exporter": "python",
   "pygments_lexer": "ipython3",
   "version": "3.12.5"
  }
 },
 "nbformat": 4,
 "nbformat_minor": 5
}
